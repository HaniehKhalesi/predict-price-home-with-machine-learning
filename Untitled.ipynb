{
 "cells": [
  {
   "cell_type": "code",
   "execution_count": 118,
   "id": "28529024",
   "metadata": {},
   "outputs": [],
   "source": [
    "import pandas as pd\n",
    "import numpy as np\n",
    "import matplotlib.pyplot as plt"
   ]
  },
  {
   "cell_type": "code",
   "execution_count": 93,
   "id": "68af8e74",
   "metadata": {},
   "outputs": [],
   "source": [
    "df = pd.read_csv('data.csv', sep='\\t')"
   ]
  },
  {
   "cell_type": "code",
   "execution_count": 94,
   "id": "4fc6e1d7",
   "metadata": {},
   "outputs": [
    {
     "data": {
      "text/html": [
       "<div>\n",
       "<style scoped>\n",
       "    .dataframe tbody tr th:only-of-type {\n",
       "        vertical-align: middle;\n",
       "    }\n",
       "\n",
       "    .dataframe tbody tr th {\n",
       "        vertical-align: top;\n",
       "    }\n",
       "\n",
       "    .dataframe thead th {\n",
       "        text-align: right;\n",
       "    }\n",
       "</style>\n",
       "<table border=\"1\" class=\"dataframe\">\n",
       "  <thead>\n",
       "    <tr style=\"text-align: right;\">\n",
       "      <th></th>\n",
       "      <th>number_bedrooms</th>\n",
       "      <th>number_bath</th>\n",
       "      <th>area</th>\n",
       "      <th>property_address</th>\n",
       "      <th>price</th>\n",
       "    </tr>\n",
       "  </thead>\n",
       "  <tbody>\n",
       "    <tr>\n",
       "      <th>0</th>\n",
       "      <td>2</td>\n",
       "      <td>2</td>\n",
       "      <td>1.200</td>\n",
       "      <td>Chicago</td>\n",
       "      <td>409900</td>\n",
       "    </tr>\n",
       "    <tr>\n",
       "      <th>1</th>\n",
       "      <td>2</td>\n",
       "      <td>1</td>\n",
       "      <td>1.000</td>\n",
       "      <td>Chicago</td>\n",
       "      <td>178804</td>\n",
       "    </tr>\n",
       "    <tr>\n",
       "      <th>2</th>\n",
       "      <td>2</td>\n",
       "      <td>1</td>\n",
       "      <td>None</td>\n",
       "      <td>Chicago</td>\n",
       "      <td>384900</td>\n",
       "    </tr>\n",
       "    <tr>\n",
       "      <th>3</th>\n",
       "      <td>3</td>\n",
       "      <td>2.5</td>\n",
       "      <td>1.617</td>\n",
       "      <td>Chicago</td>\n",
       "      <td>185000</td>\n",
       "    </tr>\n",
       "    <tr>\n",
       "      <th>4</th>\n",
       "      <td>3</td>\n",
       "      <td>1.5</td>\n",
       "      <td>1.048</td>\n",
       "      <td>Chicago</td>\n",
       "      <td>338000</td>\n",
       "    </tr>\n",
       "    <tr>\n",
       "      <th>...</th>\n",
       "      <td>...</td>\n",
       "      <td>...</td>\n",
       "      <td>...</td>\n",
       "      <td>...</td>\n",
       "      <td>...</td>\n",
       "    </tr>\n",
       "    <tr>\n",
       "      <th>345</th>\n",
       "      <td>3</td>\n",
       "      <td>2.5</td>\n",
       "      <td>2.300</td>\n",
       "      <td>Chicago</td>\n",
       "      <td>1249500</td>\n",
       "    </tr>\n",
       "    <tr>\n",
       "      <th>346</th>\n",
       "      <td>2</td>\n",
       "      <td>1</td>\n",
       "      <td>850</td>\n",
       "      <td>Oak Lawn</td>\n",
       "      <td>125000</td>\n",
       "    </tr>\n",
       "    <tr>\n",
       "      <th>347</th>\n",
       "      <td>None</td>\n",
       "      <td>None</td>\n",
       "      <td>4356 (Lot)</td>\n",
       "      <td>Chicago</td>\n",
       "      <td>23000</td>\n",
       "    </tr>\n",
       "    <tr>\n",
       "      <th>348</th>\n",
       "      <td>4</td>\n",
       "      <td>1</td>\n",
       "      <td>1.594</td>\n",
       "      <td>Chicago</td>\n",
       "      <td>68000</td>\n",
       "    </tr>\n",
       "    <tr>\n",
       "      <th>349</th>\n",
       "      <td>5</td>\n",
       "      <td>2.5</td>\n",
       "      <td>1.214</td>\n",
       "      <td>Chicago</td>\n",
       "      <td>299900</td>\n",
       "    </tr>\n",
       "  </tbody>\n",
       "</table>\n",
       "<p>350 rows × 5 columns</p>\n",
       "</div>"
      ],
      "text/plain": [
       "    number_bedrooms number_bath        area property_address    price\n",
       "0                 2           2       1.200          Chicago   409900\n",
       "1                 2           1       1.000          Chicago   178804\n",
       "2                 2           1        None          Chicago   384900\n",
       "3                 3         2.5       1.617          Chicago   185000\n",
       "4                 3         1.5       1.048          Chicago   338000\n",
       "..              ...         ...         ...              ...      ...\n",
       "345               3         2.5       2.300          Chicago  1249500\n",
       "346               2           1         850         Oak Lawn   125000\n",
       "347            None        None  4356 (Lot)          Chicago    23000\n",
       "348               4           1       1.594          Chicago    68000\n",
       "349               5         2.5       1.214          Chicago   299900\n",
       "\n",
       "[350 rows x 5 columns]"
      ]
     },
     "execution_count": 94,
     "metadata": {},
     "output_type": "execute_result"
    }
   ],
   "source": [
    "df"
   ]
  },
  {
   "cell_type": "markdown",
   "id": "824fcee4",
   "metadata": {},
   "source": [
    "### Preprocressing"
   ]
  },
  {
   "cell_type": "code",
   "execution_count": 95,
   "id": "7ca8ddba",
   "metadata": {},
   "outputs": [
    {
     "name": "stdout",
     "output_type": "stream",
     "text": [
      "Number_bedrooms   False    341\n",
      "True       9\n",
      "Name: number_bedrooms, dtype: int64\n",
      "skkkkkkkkkkkkkkkkkkkkkkkkkkkkkkkkkkkkkkkkkkkkkkkkkkkkkkkk\n",
      "number_bath   False    343\n",
      "True       7\n",
      "Name: number_bath, dtype: int64\n",
      "skkkkkkkkkkkkkkkkkkkkkkkkkkkkkkkkkkkkkkkkkkkkkkkkkkkkkkkk\n",
      "area   False    244\n",
      "True     106\n",
      "Name: area, dtype: int64\n",
      "skkkkkkkkkkkkkkkkkkkkkkkkkkkkkkkkkkkkkkkkkkkkkkkkkkkkkkkk\n",
      "price   False    350\n",
      "Name: price, dtype: int64\n",
      "skkkkkkkkkkkkkkkkkkkkkkkkkkkkkkkkkkkkkkkkkkkkkkkkkkkkkkkk\n",
      "property_address   False    350\n",
      "Name: property_address, dtype: int64\n"
     ]
    }
   ],
   "source": [
    "# chack None data in dataframe\n",
    "print('Number_bedrooms  ', df['number_bedrooms'].apply(lambda x: x == \"None\").value_counts())\n",
    "print(\"skkkkkkkkkkkkkkkkkkkkkkkkkkkkkkkkkkkkkkkkkkkkkkkkkkkkkkkk\")\n",
    "print('number_bath  ', df['number_bath'].apply(lambda x: x == \"None\").value_counts())\n",
    "print(\"skkkkkkkkkkkkkkkkkkkkkkkkkkkkkkkkkkkkkkkkkkkkkkkkkkkkkkkk\")\n",
    "print('area  ', df['area'].apply(lambda x: x == \"None\").value_counts())\n",
    "print(\"skkkkkkkkkkkkkkkkkkkkkkkkkkkkkkkkkkkkkkkkkkkkkkkkkkkkkkkk\")\n",
    "print('price  ', df['price'].apply(lambda x: x == \"None\").value_counts())\n",
    "print(\"skkkkkkkkkkkkkkkkkkkkkkkkkkkkkkkkkkkkkkkkkkkkkkkkkkkkkkkk\")\n",
    "print('property_address  ', df['property_address'].apply(lambda x: x == \"None\").value_counts())"
   ]
  },
  {
   "cell_type": "code",
   "execution_count": 96,
   "id": "9ddd8c4b",
   "metadata": {},
   "outputs": [
    {
     "name": "stdout",
     "output_type": "stream",
     "text": [
      "Number_bedrooms   False    350\n",
      "Name: number_bedrooms, dtype: int64\n",
      "number_bath   False    350\n",
      "Name: number_bath, dtype: int64\n",
      "area   False    350\n",
      "Name: area, dtype: int64\n",
      "price   False    350\n",
      "Name: price, dtype: int64\n",
      "property_address   False    350\n",
      "Name: property_address, dtype: int64\n"
     ]
    }
   ],
   "source": [
    "# chack null data in dataframe\n",
    "print('Number_bedrooms  ', df['number_bedrooms'].isnull().value_counts())\n",
    "print('number_bath  ', df['number_bath'].isnull().value_counts())\n",
    "print('area  ', df['area'].isnull().value_counts())\n",
    "print('price  ', df['price'].isnull().value_counts())\n",
    "print('property_address  ', df['property_address'].isnull().value_counts())"
   ]
  },
  {
   "cell_type": "code",
   "execution_count": 97,
   "id": "638cfca1",
   "metadata": {},
   "outputs": [],
   "source": [
    "df[['area']]  =  df[['area']].replace(\n",
    "     to_replace='None', value=np.nan)"
   ]
  },
  {
   "cell_type": "code",
   "execution_count": 98,
   "id": "fa585ea0",
   "metadata": {},
   "outputs": [
    {
     "data": {
      "text/html": [
       "<div>\n",
       "<style scoped>\n",
       "    .dataframe tbody tr th:only-of-type {\n",
       "        vertical-align: middle;\n",
       "    }\n",
       "\n",
       "    .dataframe tbody tr th {\n",
       "        vertical-align: top;\n",
       "    }\n",
       "\n",
       "    .dataframe thead th {\n",
       "        text-align: right;\n",
       "    }\n",
       "</style>\n",
       "<table border=\"1\" class=\"dataframe\">\n",
       "  <thead>\n",
       "    <tr style=\"text-align: right;\">\n",
       "      <th></th>\n",
       "      <th>number_bedrooms</th>\n",
       "      <th>number_bath</th>\n",
       "      <th>area</th>\n",
       "      <th>property_address</th>\n",
       "      <th>price</th>\n",
       "    </tr>\n",
       "  </thead>\n",
       "  <tbody>\n",
       "    <tr>\n",
       "      <th>0</th>\n",
       "      <td>2</td>\n",
       "      <td>2</td>\n",
       "      <td>1.200</td>\n",
       "      <td>Chicago</td>\n",
       "      <td>409900</td>\n",
       "    </tr>\n",
       "    <tr>\n",
       "      <th>1</th>\n",
       "      <td>2</td>\n",
       "      <td>1</td>\n",
       "      <td>1.000</td>\n",
       "      <td>Chicago</td>\n",
       "      <td>178804</td>\n",
       "    </tr>\n",
       "    <tr>\n",
       "      <th>2</th>\n",
       "      <td>2</td>\n",
       "      <td>1</td>\n",
       "      <td>NaN</td>\n",
       "      <td>Chicago</td>\n",
       "      <td>384900</td>\n",
       "    </tr>\n",
       "    <tr>\n",
       "      <th>3</th>\n",
       "      <td>3</td>\n",
       "      <td>2.5</td>\n",
       "      <td>1.617</td>\n",
       "      <td>Chicago</td>\n",
       "      <td>185000</td>\n",
       "    </tr>\n",
       "    <tr>\n",
       "      <th>4</th>\n",
       "      <td>3</td>\n",
       "      <td>1.5</td>\n",
       "      <td>1.048</td>\n",
       "      <td>Chicago</td>\n",
       "      <td>338000</td>\n",
       "    </tr>\n",
       "    <tr>\n",
       "      <th>...</th>\n",
       "      <td>...</td>\n",
       "      <td>...</td>\n",
       "      <td>...</td>\n",
       "      <td>...</td>\n",
       "      <td>...</td>\n",
       "    </tr>\n",
       "    <tr>\n",
       "      <th>344</th>\n",
       "      <td>8</td>\n",
       "      <td>3</td>\n",
       "      <td>NaN</td>\n",
       "      <td>Chicago</td>\n",
       "      <td>1099999</td>\n",
       "    </tr>\n",
       "    <tr>\n",
       "      <th>345</th>\n",
       "      <td>3</td>\n",
       "      <td>2.5</td>\n",
       "      <td>2.300</td>\n",
       "      <td>Chicago</td>\n",
       "      <td>1249500</td>\n",
       "    </tr>\n",
       "    <tr>\n",
       "      <th>346</th>\n",
       "      <td>2</td>\n",
       "      <td>1</td>\n",
       "      <td>850</td>\n",
       "      <td>Oak Lawn</td>\n",
       "      <td>125000</td>\n",
       "    </tr>\n",
       "    <tr>\n",
       "      <th>348</th>\n",
       "      <td>4</td>\n",
       "      <td>1</td>\n",
       "      <td>1.594</td>\n",
       "      <td>Chicago</td>\n",
       "      <td>68000</td>\n",
       "    </tr>\n",
       "    <tr>\n",
       "      <th>349</th>\n",
       "      <td>5</td>\n",
       "      <td>2.5</td>\n",
       "      <td>1.214</td>\n",
       "      <td>Chicago</td>\n",
       "      <td>299900</td>\n",
       "    </tr>\n",
       "  </tbody>\n",
       "</table>\n",
       "<p>341 rows × 5 columns</p>\n",
       "</div>"
      ],
      "text/plain": [
       "    number_bedrooms number_bath   area property_address    price\n",
       "0                 2           2  1.200          Chicago   409900\n",
       "1                 2           1  1.000          Chicago   178804\n",
       "2                 2           1    NaN          Chicago   384900\n",
       "3                 3         2.5  1.617          Chicago   185000\n",
       "4                 3         1.5  1.048          Chicago   338000\n",
       "..              ...         ...    ...              ...      ...\n",
       "344               8           3    NaN          Chicago  1099999\n",
       "345               3         2.5  2.300          Chicago  1249500\n",
       "346               2           1    850         Oak Lawn   125000\n",
       "348               4           1  1.594          Chicago    68000\n",
       "349               5         2.5  1.214          Chicago   299900\n",
       "\n",
       "[341 rows x 5 columns]"
      ]
     },
     "execution_count": 98,
     "metadata": {},
     "output_type": "execute_result"
    }
   ],
   "source": [
    "# drop data Nane in dataframe (columns: Number_bedrooms, number_bath)\n",
    "df[['number_bedrooms', 'number_bath']]  =  df[['number_bedrooms', 'number_bath']].replace(\n",
    "     to_replace='None', value=np.nan)\n",
    "df = df.dropna(subset=['number_bedrooms', 'number_bath'])\n",
    "df"
   ]
  },
  {
   "cell_type": "code",
   "execution_count": 99,
   "id": "98533204",
   "metadata": {},
   "outputs": [
    {
     "name": "stderr",
     "output_type": "stream",
     "text": [
      "C:\\Users\\Hanieh\\AppData\\Local\\Temp\\ipykernel_19772\\3331866629.py:1: SettingWithCopyWarning: \n",
      "A value is trying to be set on a copy of a slice from a DataFrame.\n",
      "Try using .loc[row_indexer,col_indexer] = value instead\n",
      "\n",
      "See the caveats in the documentation: https://pandas.pydata.org/pandas-docs/stable/user_guide/indexing.html#returning-a-view-versus-a-copy\n",
      "  df[['property_address']] = df[['property_address']].apply(lambda col: pd.factorize(col, sort=True)[0])\n"
     ]
    },
    {
     "data": {
      "text/html": [
       "<div>\n",
       "<style scoped>\n",
       "    .dataframe tbody tr th:only-of-type {\n",
       "        vertical-align: middle;\n",
       "    }\n",
       "\n",
       "    .dataframe tbody tr th {\n",
       "        vertical-align: top;\n",
       "    }\n",
       "\n",
       "    .dataframe thead th {\n",
       "        text-align: right;\n",
       "    }\n",
       "</style>\n",
       "<table border=\"1\" class=\"dataframe\">\n",
       "  <thead>\n",
       "    <tr style=\"text-align: right;\">\n",
       "      <th></th>\n",
       "      <th>number_bedrooms</th>\n",
       "      <th>number_bath</th>\n",
       "      <th>area</th>\n",
       "      <th>property_address</th>\n",
       "      <th>price</th>\n",
       "    </tr>\n",
       "  </thead>\n",
       "  <tbody>\n",
       "    <tr>\n",
       "      <th>0</th>\n",
       "      <td>2</td>\n",
       "      <td>2</td>\n",
       "      <td>1.200</td>\n",
       "      <td>1</td>\n",
       "      <td>409900</td>\n",
       "    </tr>\n",
       "    <tr>\n",
       "      <th>1</th>\n",
       "      <td>2</td>\n",
       "      <td>1</td>\n",
       "      <td>1.000</td>\n",
       "      <td>1</td>\n",
       "      <td>178804</td>\n",
       "    </tr>\n",
       "    <tr>\n",
       "      <th>2</th>\n",
       "      <td>2</td>\n",
       "      <td>1</td>\n",
       "      <td>NaN</td>\n",
       "      <td>1</td>\n",
       "      <td>384900</td>\n",
       "    </tr>\n",
       "    <tr>\n",
       "      <th>3</th>\n",
       "      <td>3</td>\n",
       "      <td>2.5</td>\n",
       "      <td>1.617</td>\n",
       "      <td>1</td>\n",
       "      <td>185000</td>\n",
       "    </tr>\n",
       "    <tr>\n",
       "      <th>4</th>\n",
       "      <td>3</td>\n",
       "      <td>1.5</td>\n",
       "      <td>1.048</td>\n",
       "      <td>1</td>\n",
       "      <td>338000</td>\n",
       "    </tr>\n",
       "    <tr>\n",
       "      <th>...</th>\n",
       "      <td>...</td>\n",
       "      <td>...</td>\n",
       "      <td>...</td>\n",
       "      <td>...</td>\n",
       "      <td>...</td>\n",
       "    </tr>\n",
       "    <tr>\n",
       "      <th>344</th>\n",
       "      <td>8</td>\n",
       "      <td>3</td>\n",
       "      <td>NaN</td>\n",
       "      <td>1</td>\n",
       "      <td>1099999</td>\n",
       "    </tr>\n",
       "    <tr>\n",
       "      <th>345</th>\n",
       "      <td>3</td>\n",
       "      <td>2.5</td>\n",
       "      <td>2.300</td>\n",
       "      <td>1</td>\n",
       "      <td>1249500</td>\n",
       "    </tr>\n",
       "    <tr>\n",
       "      <th>346</th>\n",
       "      <td>2</td>\n",
       "      <td>1</td>\n",
       "      <td>850</td>\n",
       "      <td>4</td>\n",
       "      <td>125000</td>\n",
       "    </tr>\n",
       "    <tr>\n",
       "      <th>348</th>\n",
       "      <td>4</td>\n",
       "      <td>1</td>\n",
       "      <td>1.594</td>\n",
       "      <td>1</td>\n",
       "      <td>68000</td>\n",
       "    </tr>\n",
       "    <tr>\n",
       "      <th>349</th>\n",
       "      <td>5</td>\n",
       "      <td>2.5</td>\n",
       "      <td>1.214</td>\n",
       "      <td>1</td>\n",
       "      <td>299900</td>\n",
       "    </tr>\n",
       "  </tbody>\n",
       "</table>\n",
       "<p>341 rows × 5 columns</p>\n",
       "</div>"
      ],
      "text/plain": [
       "    number_bedrooms number_bath   area  property_address    price\n",
       "0                 2           2  1.200                 1   409900\n",
       "1                 2           1  1.000                 1   178804\n",
       "2                 2           1    NaN                 1   384900\n",
       "3                 3         2.5  1.617                 1   185000\n",
       "4                 3         1.5  1.048                 1   338000\n",
       "..              ...         ...    ...               ...      ...\n",
       "344               8           3    NaN                 1  1099999\n",
       "345               3         2.5  2.300                 1  1249500\n",
       "346               2           1    850                 4   125000\n",
       "348               4           1  1.594                 1    68000\n",
       "349               5         2.5  1.214                 1   299900\n",
       "\n",
       "[341 rows x 5 columns]"
      ]
     },
     "execution_count": 99,
     "metadata": {},
     "output_type": "execute_result"
    }
   ],
   "source": [
    "df[['property_address']] = df[['property_address']].apply(lambda col: pd.factorize(col, sort=True)[0])\n",
    "df"
   ]
  },
  {
   "cell_type": "code",
   "execution_count": 100,
   "id": "c3374cdc",
   "metadata": {},
   "outputs": [
    {
     "data": {
      "text/plain": [
       "price  \n",
       "275000     7\n",
       "164900     6\n",
       "450000     6\n",
       "549900     5\n",
       "750000     5\n",
       "          ..\n",
       "374900     1\n",
       "379000     1\n",
       "379900     1\n",
       "384900     1\n",
       "6495000    1\n",
       "Length: 226, dtype: int64"
      ]
     },
     "execution_count": 100,
     "metadata": {},
     "output_type": "execute_result"
    }
   ],
   "source": [
    "df[['price']].value_counts()"
   ]
  },
  {
   "cell_type": "markdown",
   "id": "bff916e4",
   "metadata": {},
   "source": [
    "### Analized Data"
   ]
  },
  {
   "cell_type": "code",
   "execution_count": 101,
   "id": "29c5381e",
   "metadata": {},
   "outputs": [
    {
     "name": "stdout",
     "output_type": "stream",
     "text": [
      "<class 'pandas.core.frame.DataFrame'>\n",
      "Int64Index: 341 entries, 0 to 349\n",
      "Data columns (total 5 columns):\n",
      " #   Column            Non-Null Count  Dtype  \n",
      "---  ------            --------------  -----  \n",
      " 0   number_bedrooms   341 non-null    int64  \n",
      " 1   number_bath       341 non-null    float64\n",
      " 2   area              236 non-null    float64\n",
      " 3   property_address  341 non-null    int64  \n",
      " 4   price             341 non-null    float64\n",
      "dtypes: float64(3), int64(2)\n",
      "memory usage: 16.0 KB\n"
     ]
    },
    {
     "name": "stderr",
     "output_type": "stream",
     "text": [
      "C:\\Users\\Hanieh\\AppData\\Local\\Temp\\ipykernel_19772\\3772652479.py:2: SettingWithCopyWarning: \n",
      "A value is trying to be set on a copy of a slice from a DataFrame.\n",
      "Try using .loc[row_indexer,col_indexer] = value instead\n",
      "\n",
      "See the caveats in the documentation: https://pandas.pydata.org/pandas-docs/stable/user_guide/indexing.html#returning-a-view-versus-a-copy\n",
      "  df['number_bedrooms']= pd.to_numeric(df['number_bedrooms'])\n",
      "C:\\Users\\Hanieh\\AppData\\Local\\Temp\\ipykernel_19772\\3772652479.py:4: SettingWithCopyWarning: \n",
      "A value is trying to be set on a copy of a slice from a DataFrame.\n",
      "Try using .loc[row_indexer,col_indexer] = value instead\n",
      "\n",
      "See the caveats in the documentation: https://pandas.pydata.org/pandas-docs/stable/user_guide/indexing.html#returning-a-view-versus-a-copy\n",
      "  df['number_bath']= pd.to_numeric(df['number_bath'])\n",
      "C:\\Users\\Hanieh\\AppData\\Local\\Temp\\ipykernel_19772\\3772652479.py:6: SettingWithCopyWarning: \n",
      "A value is trying to be set on a copy of a slice from a DataFrame.\n",
      "Try using .loc[row_indexer,col_indexer] = value instead\n",
      "\n",
      "See the caveats in the documentation: https://pandas.pydata.org/pandas-docs/stable/user_guide/indexing.html#returning-a-view-versus-a-copy\n",
      "  df['area']= pd.to_numeric(df['area'])\n",
      "C:\\Users\\Hanieh\\AppData\\Local\\Temp\\ipykernel_19772\\3772652479.py:8: SettingWithCopyWarning: \n",
      "A value is trying to be set on a copy of a slice from a DataFrame.\n",
      "Try using .loc[row_indexer,col_indexer] = value instead\n",
      "\n",
      "See the caveats in the documentation: https://pandas.pydata.org/pandas-docs/stable/user_guide/indexing.html#returning-a-view-versus-a-copy\n",
      "  df['price']= df['price'].astype(float)\n"
     ]
    }
   ],
   "source": [
    "# convert object to int\n",
    "df['number_bedrooms']= pd.to_numeric(df['number_bedrooms'])\n",
    "\n",
    "df['number_bath']= pd.to_numeric(df['number_bath'])\n",
    "\n",
    "df['area']= pd.to_numeric(df['area'])\n",
    "\n",
    "df['price']= df['price'].astype(float)\n",
    "\n",
    "df.info()"
   ]
  },
  {
   "cell_type": "code",
   "execution_count": 102,
   "id": "22ab6a5c",
   "metadata": {},
   "outputs": [
    {
     "name": "stdout",
     "output_type": "stream",
     "text": [
      "<class 'pandas.core.frame.DataFrame'>\n",
      "Int64Index: 341 entries, 0 to 349\n",
      "Data columns (total 1 columns):\n",
      " #   Column           Non-Null Count  Dtype\n",
      "---  ------           --------------  -----\n",
      " 0   number_bedrooms  341 non-null    int64\n",
      "dtypes: int64(1)\n",
      "memory usage: 5.3 KB\n"
     ]
    }
   ],
   "source": [
    "df[['number_bedrooms']].info()"
   ]
  },
  {
   "cell_type": "code",
   "execution_count": 117,
   "id": "0c28323e",
   "metadata": {},
   "outputs": [
    {
     "data": {
      "text/plain": [
       "array([[<AxesSubplot:title={'center':'number_bedrooms'}>,\n",
       "        <AxesSubplot:title={'center':'number_bath'}>],\n",
       "       [<AxesSubplot:title={'center':'area'}>,\n",
       "        <AxesSubplot:title={'center':'property_address'}>],\n",
       "       [<AxesSubplot:title={'center':'price'}>, <AxesSubplot:>]],\n",
       "      dtype=object)"
      ]
     },
     "execution_count": 117,
     "metadata": {},
     "output_type": "execute_result"
    },
    {
     "data": {
      "image/png": "[encoded data removed]",
      "text/plain": [
       "<Figure size 432x288 with 6 Axes>"
      ]
     },
     "metadata": {
      "needs_background": "light"
     },
     "output_type": "display_data"
    }
   ],
   "source": [
    "df.hist(bins=12)"
   ]
  },
  {
   "cell_type": "code",
   "execution_count": 129,
   "id": "36eaf885",
   "metadata": {},
   "outputs": [
    {
     "data": {
      "text/plain": [
       "<matplotlib.collections.PathCollection at 0x1e1b61a0c70>"
      ]
     },
     "execution_count": 129,
     "metadata": {},
     "output_type": "execute_result"
    },
    {
     "data": {
      "image/png": "[encoded data removed]",
      "text/plain": [
       "<Figure size 432x288 with 1 Axes>"
      ]
     },
     "metadata": {
      "needs_background": "light"
     },
     "output_type": "display_data"
    }
   ],
   "source": [
    "plt.scatter(df['property_address'], df['price'])\n",
    "# df['price']"
   ]
  },
  {
   "cell_type": "code",
   "execution_count": null,
   "id": "47d0f1db",
   "metadata": {},
   "outputs": [],
   "source": []
  },
  {
   "cell_type": "code",
   "execution_count": null,
   "id": "89455487",
   "metadata": {},
   "outputs": [],
   "source": []
  },
  {
   "cell_type": "code",
   "execution_count": null,
   "id": "2e3585dd",
   "metadata": {},
   "outputs": [],
   "source": []
  },
  {
   "cell_type": "code",
   "execution_count": null,
   "id": "fb1edb87",
   "metadata": {},
   "outputs": [],
   "source": []
  }
 ],
 "metadata": {
  "kernelspec": {
   "display_name": "Python 3 (ipykernel)",
   "language": "python",
   "name": "python3"
  },
  "language_info": {
   "codemirror_mode": {
    "name": "ipython",
    "version": 3
   },
   "file_extension": ".py",
   "mimetype": "text/x-python",
   "name": "python",
   "nbconvert_exporter": "python",
   "pygments_lexer": "ipython3",
   "version": "3.10.0"
  }
 },
 "nbformat": 4,
 "nbformat_minor": 5
}
