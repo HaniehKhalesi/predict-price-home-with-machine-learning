{
 "cells": [
  {
   "cell_type": "code",
   "execution_count": 34,
   "id": "28529024",
   "metadata": {},
   "outputs": [],
   "source": [
    "import pandas as pd\n",
    "import numpy as np\n",
    "import matplotlib.pyplot as plt\n",
    "from sklearn.model_selection import train_test_split\n",
    "from sklearn.model_selection import cross_val_score\n",
    "from sklearn.neural_network import MLPRegressor\n",
    "from sklearn.ensemble import RandomForestRegressor\n"
   ]
  },
  {
   "cell_type": "code",
   "execution_count": 2,
   "id": "68af8e74",
   "metadata": {},
   "outputs": [],
   "source": [
    "df = pd.read_csv('data.csv', sep='\\t')"
   ]
  },
  {
   "cell_type": "code",
   "execution_count": 3,
   "id": "4fc6e1d7",
   "metadata": {},
   "outputs": [
    {
     "data": {
      "text/html": [
       "<div>\n",
       "<style scoped>\n",
       "    .dataframe tbody tr th:only-of-type {\n",
       "        vertical-align: middle;\n",
       "    }\n",
       "\n",
       "    .dataframe tbody tr th {\n",
       "        vertical-align: top;\n",
       "    }\n",
       "\n",
       "    .dataframe thead th {\n",
       "        text-align: right;\n",
       "    }\n",
       "</style>\n",
       "<table border=\"1\" class=\"dataframe\">\n",
       "  <thead>\n",
       "    <tr style=\"text-align: right;\">\n",
       "      <th></th>\n",
       "      <th>number_bedrooms</th>\n",
       "      <th>number_bath</th>\n",
       "      <th>area</th>\n",
       "      <th>property_address</th>\n",
       "      <th>price</th>\n",
       "    </tr>\n",
       "  </thead>\n",
       "  <tbody>\n",
       "    <tr>\n",
       "      <th>0</th>\n",
       "      <td>2</td>\n",
       "      <td>2</td>\n",
       "      <td>1.200</td>\n",
       "      <td>Chicago</td>\n",
       "      <td>409900</td>\n",
       "    </tr>\n",
       "    <tr>\n",
       "      <th>1</th>\n",
       "      <td>2</td>\n",
       "      <td>1</td>\n",
       "      <td>1.000</td>\n",
       "      <td>Chicago</td>\n",
       "      <td>178804</td>\n",
       "    </tr>\n",
       "    <tr>\n",
       "      <th>2</th>\n",
       "      <td>2</td>\n",
       "      <td>1</td>\n",
       "      <td>None</td>\n",
       "      <td>Chicago</td>\n",
       "      <td>384900</td>\n",
       "    </tr>\n",
       "    <tr>\n",
       "      <th>3</th>\n",
       "      <td>3</td>\n",
       "      <td>2.5</td>\n",
       "      <td>1.617</td>\n",
       "      <td>Chicago</td>\n",
       "      <td>185000</td>\n",
       "    </tr>\n",
       "    <tr>\n",
       "      <th>4</th>\n",
       "      <td>3</td>\n",
       "      <td>1.5</td>\n",
       "      <td>1.048</td>\n",
       "      <td>Chicago</td>\n",
       "      <td>338000</td>\n",
       "    </tr>\n",
       "    <tr>\n",
       "      <th>...</th>\n",
       "      <td>...</td>\n",
       "      <td>...</td>\n",
       "      <td>...</td>\n",
       "      <td>...</td>\n",
       "      <td>...</td>\n",
       "    </tr>\n",
       "    <tr>\n",
       "      <th>345</th>\n",
       "      <td>3</td>\n",
       "      <td>2.5</td>\n",
       "      <td>2.300</td>\n",
       "      <td>Chicago</td>\n",
       "      <td>1249500</td>\n",
       "    </tr>\n",
       "    <tr>\n",
       "      <th>346</th>\n",
       "      <td>2</td>\n",
       "      <td>1</td>\n",
       "      <td>850</td>\n",
       "      <td>Oak Lawn</td>\n",
       "      <td>125000</td>\n",
       "    </tr>\n",
       "    <tr>\n",
       "      <th>347</th>\n",
       "      <td>None</td>\n",
       "      <td>None</td>\n",
       "      <td>4356 (Lot)</td>\n",
       "      <td>Chicago</td>\n",
       "      <td>23000</td>\n",
       "    </tr>\n",
       "    <tr>\n",
       "      <th>348</th>\n",
       "      <td>4</td>\n",
       "      <td>1</td>\n",
       "      <td>1.594</td>\n",
       "      <td>Chicago</td>\n",
       "      <td>68000</td>\n",
       "    </tr>\n",
       "    <tr>\n",
       "      <th>349</th>\n",
       "      <td>5</td>\n",
       "      <td>2.5</td>\n",
       "      <td>1.214</td>\n",
       "      <td>Chicago</td>\n",
       "      <td>299900</td>\n",
       "    </tr>\n",
       "  </tbody>\n",
       "</table>\n",
       "<p>350 rows × 5 columns</p>\n",
       "</div>"
      ],
      "text/plain": [
       "    number_bedrooms number_bath        area property_address    price\n",
       "0                 2           2       1.200          Chicago   409900\n",
       "1                 2           1       1.000          Chicago   178804\n",
       "2                 2           1        None          Chicago   384900\n",
       "3                 3         2.5       1.617          Chicago   185000\n",
       "4                 3         1.5       1.048          Chicago   338000\n",
       "..              ...         ...         ...              ...      ...\n",
       "345               3         2.5       2.300          Chicago  1249500\n",
       "346               2           1         850         Oak Lawn   125000\n",
       "347            None        None  4356 (Lot)          Chicago    23000\n",
       "348               4           1       1.594          Chicago    68000\n",
       "349               5         2.5       1.214          Chicago   299900\n",
       "\n",
       "[350 rows x 5 columns]"
      ]
     },
     "execution_count": 3,
     "metadata": {},
     "output_type": "execute_result"
    }
   ],
   "source": [
    "df"
   ]
  },
  {
   "cell_type": "markdown",
   "id": "824fcee4",
   "metadata": {},
   "source": [
    "### Preprocressing"
   ]
  },
  {
   "cell_type": "code",
   "execution_count": 29,
   "id": "7ca8ddba",
   "metadata": {},
   "outputs": [
    {
     "name": "stdout",
     "output_type": "stream",
     "text": [
      "Number_bedrooms   False    341\n",
      "Name: number_bedrooms, dtype: int64\n",
      "skkkkkkkkkkkkkkkkkkkkkkkkkkkkkkkkkkkkkkkkkkkkkkkkkkkkkkkk\n",
      "number_bath   False    341\n",
      "Name: number_bath, dtype: int64\n",
      "skkkkkkkkkkkkkkkkkkkkkkkkkkkkkkkkkkkkkkkkkkkkkkkkkkkkkkkk\n",
      "area   False    341\n",
      "Name: area, dtype: int64\n",
      "skkkkkkkkkkkkkkkkkkkkkkkkkkkkkkkkkkkkkkkkkkkkkkkkkkkkkkkk\n",
      "price   False    341\n",
      "Name: price, dtype: int64\n",
      "skkkkkkkkkkkkkkkkkkkkkkkkkkkkkkkkkkkkkkkkkkkkkkkkkkkkkkkk\n",
      "property_address   False    341\n",
      "Name: property_address, dtype: int64\n"
     ]
    }
   ],
   "source": [
    "# chack None data in dataframe\n",
    "print('Number_bedrooms  ', df['number_bedrooms'].apply(lambda x: x == \"None\").value_counts())\n",
    "print(\"skkkkkkkkkkkkkkkkkkkkkkkkkkkkkkkkkkkkkkkkkkkkkkkkkkkkkkkk\")\n",
    "print('number_bath  ', df['number_bath'].apply(lambda x: x == \"None\").value_counts())\n",
    "print(\"skkkkkkkkkkkkkkkkkkkkkkkkkkkkkkkkkkkkkkkkkkkkkkkkkkkkkkkk\")\n",
    "print('area  ', df['area'].apply(lambda x: x == \"None\").value_counts())\n",
    "print(\"skkkkkkkkkkkkkkkkkkkkkkkkkkkkkkkkkkkkkkkkkkkkkkkkkkkkkkkk\")\n",
    "print('price  ', df['price'].apply(lambda x: x == \"None\").value_counts())\n",
    "print(\"skkkkkkkkkkkkkkkkkkkkkkkkkkkkkkkkkkkkkkkkkkkkkkkkkkkkkkkk\")\n",
    "print('property_address  ', df['property_address'].apply(lambda x: x == \"None\").value_counts())"
   ]
  },
  {
   "cell_type": "code",
   "execution_count": 30,
   "id": "9ddd8c4b",
   "metadata": {},
   "outputs": [
    {
     "name": "stdout",
     "output_type": "stream",
     "text": [
      "Number_bedrooms   False    341\n",
      "Name: number_bedrooms, dtype: int64\n",
      "number_bath   False    341\n",
      "Name: number_bath, dtype: int64\n",
      "area   False    236\n",
      "True     105\n",
      "Name: area, dtype: int64\n",
      "price   False    341\n",
      "Name: price, dtype: int64\n",
      "property_address   False    341\n",
      "Name: property_address, dtype: int64\n"
     ]
    }
   ],
   "source": [
    "# chack null data in dataframe\n",
    "print('Number_bedrooms  ', df['number_bedrooms'].isnull().value_counts())\n",
    "print('number_bath  ', df['number_bath'].isnull().value_counts())\n",
    "print('area  ', df['area'].isnull().value_counts())\n",
    "print('price  ', df['price'].isnull().value_counts())\n",
    "print('property_address  ', df['property_address'].isnull().value_counts())"
   ]
  },
  {
   "cell_type": "code",
   "execution_count": 6,
   "id": "638cfca1",
   "metadata": {},
   "outputs": [],
   "source": [
    "df[['area']]  =  df[['area']].replace(\n",
    "     to_replace='None', value=np.nan)"
   ]
  },
  {
   "cell_type": "code",
   "execution_count": 7,
   "id": "fa585ea0",
   "metadata": {},
   "outputs": [
    {
     "data": {
      "text/html": [
       "<div>\n",
       "<style scoped>\n",
       "    .dataframe tbody tr th:only-of-type {\n",
       "        vertical-align: middle;\n",
       "    }\n",
       "\n",
       "    .dataframe tbody tr th {\n",
       "        vertical-align: top;\n",
       "    }\n",
       "\n",
       "    .dataframe thead th {\n",
       "        text-align: right;\n",
       "    }\n",
       "</style>\n",
       "<table border=\"1\" class=\"dataframe\">\n",
       "  <thead>\n",
       "    <tr style=\"text-align: right;\">\n",
       "      <th></th>\n",
       "      <th>number_bedrooms</th>\n",
       "      <th>number_bath</th>\n",
       "      <th>area</th>\n",
       "      <th>property_address</th>\n",
       "      <th>price</th>\n",
       "    </tr>\n",
       "  </thead>\n",
       "  <tbody>\n",
       "    <tr>\n",
       "      <th>0</th>\n",
       "      <td>2</td>\n",
       "      <td>2</td>\n",
       "      <td>1.200</td>\n",
       "      <td>Chicago</td>\n",
       "      <td>409900</td>\n",
       "    </tr>\n",
       "    <tr>\n",
       "      <th>1</th>\n",
       "      <td>2</td>\n",
       "      <td>1</td>\n",
       "      <td>1.000</td>\n",
       "      <td>Chicago</td>\n",
       "      <td>178804</td>\n",
       "    </tr>\n",
       "    <tr>\n",
       "      <th>2</th>\n",
       "      <td>2</td>\n",
       "      <td>1</td>\n",
       "      <td>NaN</td>\n",
       "      <td>Chicago</td>\n",
       "      <td>384900</td>\n",
       "    </tr>\n",
       "    <tr>\n",
       "      <th>3</th>\n",
       "      <td>3</td>\n",
       "      <td>2.5</td>\n",
       "      <td>1.617</td>\n",
       "      <td>Chicago</td>\n",
       "      <td>185000</td>\n",
       "    </tr>\n",
       "    <tr>\n",
       "      <th>4</th>\n",
       "      <td>3</td>\n",
       "      <td>1.5</td>\n",
       "      <td>1.048</td>\n",
       "      <td>Chicago</td>\n",
       "      <td>338000</td>\n",
       "    </tr>\n",
       "    <tr>\n",
       "      <th>...</th>\n",
       "      <td>...</td>\n",
       "      <td>...</td>\n",
       "      <td>...</td>\n",
       "      <td>...</td>\n",
       "      <td>...</td>\n",
       "    </tr>\n",
       "    <tr>\n",
       "      <th>344</th>\n",
       "      <td>8</td>\n",
       "      <td>3</td>\n",
       "      <td>NaN</td>\n",
       "      <td>Chicago</td>\n",
       "      <td>1099999</td>\n",
       "    </tr>\n",
       "    <tr>\n",
       "      <th>345</th>\n",
       "      <td>3</td>\n",
       "      <td>2.5</td>\n",
       "      <td>2.300</td>\n",
       "      <td>Chicago</td>\n",
       "      <td>1249500</td>\n",
       "    </tr>\n",
       "    <tr>\n",
       "      <th>346</th>\n",
       "      <td>2</td>\n",
       "      <td>1</td>\n",
       "      <td>850</td>\n",
       "      <td>Oak Lawn</td>\n",
       "      <td>125000</td>\n",
       "    </tr>\n",
       "    <tr>\n",
       "      <th>348</th>\n",
       "      <td>4</td>\n",
       "      <td>1</td>\n",
       "      <td>1.594</td>\n",
       "      <td>Chicago</td>\n",
       "      <td>68000</td>\n",
       "    </tr>\n",
       "    <tr>\n",
       "      <th>349</th>\n",
       "      <td>5</td>\n",
       "      <td>2.5</td>\n",
       "      <td>1.214</td>\n",
       "      <td>Chicago</td>\n",
       "      <td>299900</td>\n",
       "    </tr>\n",
       "  </tbody>\n",
       "</table>\n",
       "<p>341 rows × 5 columns</p>\n",
       "</div>"
      ],
      "text/plain": [
       "    number_bedrooms number_bath   area property_address    price\n",
       "0                 2           2  1.200          Chicago   409900\n",
       "1                 2           1  1.000          Chicago   178804\n",
       "2                 2           1    NaN          Chicago   384900\n",
       "3                 3         2.5  1.617          Chicago   185000\n",
       "4                 3         1.5  1.048          Chicago   338000\n",
       "..              ...         ...    ...              ...      ...\n",
       "344               8           3    NaN          Chicago  1099999\n",
       "345               3         2.5  2.300          Chicago  1249500\n",
       "346               2           1    850         Oak Lawn   125000\n",
       "348               4           1  1.594          Chicago    68000\n",
       "349               5         2.5  1.214          Chicago   299900\n",
       "\n",
       "[341 rows x 5 columns]"
      ]
     },
     "execution_count": 7,
     "metadata": {},
     "output_type": "execute_result"
    }
   ],
   "source": [
    "# drop data Nane in dataframe (columns: Number_bedrooms, number_bath)\n",
    "df[['number_bedrooms', 'number_bath']]  =  df[['number_bedrooms', 'number_bath']].replace(\n",
    "     to_replace='None', value=np.nan)\n",
    "df = df.dropna(subset=['number_bedrooms', 'number_bath'])\n",
    "df"
   ]
  },
  {
   "cell_type": "code",
   "execution_count": 8,
   "id": "98533204",
   "metadata": {},
   "outputs": [
    {
     "name": "stderr",
     "output_type": "stream",
     "text": [
      "C:\\Users\\Hanieh\\AppData\\Local\\Temp\\ipykernel_11872\\3331866629.py:1: SettingWithCopyWarning: \n",
      "A value is trying to be set on a copy of a slice from a DataFrame.\n",
      "Try using .loc[row_indexer,col_indexer] = value instead\n",
      "\n",
      "See the caveats in the documentation: https://pandas.pydata.org/pandas-docs/stable/user_guide/indexing.html#returning-a-view-versus-a-copy\n",
      "  df[['property_address']] = df[['property_address']].apply(lambda col: pd.factorize(col, sort=True)[0])\n"
     ]
    },
    {
     "data": {
      "text/html": [
       "<div>\n",
       "<style scoped>\n",
       "    .dataframe tbody tr th:only-of-type {\n",
       "        vertical-align: middle;\n",
       "    }\n",
       "\n",
       "    .dataframe tbody tr th {\n",
       "        vertical-align: top;\n",
       "    }\n",
       "\n",
       "    .dataframe thead th {\n",
       "        text-align: right;\n",
       "    }\n",
       "</style>\n",
       "<table border=\"1\" class=\"dataframe\">\n",
       "  <thead>\n",
       "    <tr style=\"text-align: right;\">\n",
       "      <th></th>\n",
       "      <th>number_bedrooms</th>\n",
       "      <th>number_bath</th>\n",
       "      <th>area</th>\n",
       "      <th>property_address</th>\n",
       "      <th>price</th>\n",
       "    </tr>\n",
       "  </thead>\n",
       "  <tbody>\n",
       "    <tr>\n",
       "      <th>0</th>\n",
       "      <td>2</td>\n",
       "      <td>2</td>\n",
       "      <td>1.200</td>\n",
       "      <td>1</td>\n",
       "      <td>409900</td>\n",
       "    </tr>\n",
       "    <tr>\n",
       "      <th>1</th>\n",
       "      <td>2</td>\n",
       "      <td>1</td>\n",
       "      <td>1.000</td>\n",
       "      <td>1</td>\n",
       "      <td>178804</td>\n",
       "    </tr>\n",
       "    <tr>\n",
       "      <th>2</th>\n",
       "      <td>2</td>\n",
       "      <td>1</td>\n",
       "      <td>NaN</td>\n",
       "      <td>1</td>\n",
       "      <td>384900</td>\n",
       "    </tr>\n",
       "    <tr>\n",
       "      <th>3</th>\n",
       "      <td>3</td>\n",
       "      <td>2.5</td>\n",
       "      <td>1.617</td>\n",
       "      <td>1</td>\n",
       "      <td>185000</td>\n",
       "    </tr>\n",
       "    <tr>\n",
       "      <th>4</th>\n",
       "      <td>3</td>\n",
       "      <td>1.5</td>\n",
       "      <td>1.048</td>\n",
       "      <td>1</td>\n",
       "      <td>338000</td>\n",
       "    </tr>\n",
       "    <tr>\n",
       "      <th>...</th>\n",
       "      <td>...</td>\n",
       "      <td>...</td>\n",
       "      <td>...</td>\n",
       "      <td>...</td>\n",
       "      <td>...</td>\n",
       "    </tr>\n",
       "    <tr>\n",
       "      <th>344</th>\n",
       "      <td>8</td>\n",
       "      <td>3</td>\n",
       "      <td>NaN</td>\n",
       "      <td>1</td>\n",
       "      <td>1099999</td>\n",
       "    </tr>\n",
       "    <tr>\n",
       "      <th>345</th>\n",
       "      <td>3</td>\n",
       "      <td>2.5</td>\n",
       "      <td>2.300</td>\n",
       "      <td>1</td>\n",
       "      <td>1249500</td>\n",
       "    </tr>\n",
       "    <tr>\n",
       "      <th>346</th>\n",
       "      <td>2</td>\n",
       "      <td>1</td>\n",
       "      <td>850</td>\n",
       "      <td>4</td>\n",
       "      <td>125000</td>\n",
       "    </tr>\n",
       "    <tr>\n",
       "      <th>348</th>\n",
       "      <td>4</td>\n",
       "      <td>1</td>\n",
       "      <td>1.594</td>\n",
       "      <td>1</td>\n",
       "      <td>68000</td>\n",
       "    </tr>\n",
       "    <tr>\n",
       "      <th>349</th>\n",
       "      <td>5</td>\n",
       "      <td>2.5</td>\n",
       "      <td>1.214</td>\n",
       "      <td>1</td>\n",
       "      <td>299900</td>\n",
       "    </tr>\n",
       "  </tbody>\n",
       "</table>\n",
       "<p>341 rows × 5 columns</p>\n",
       "</div>"
      ],
      "text/plain": [
       "    number_bedrooms number_bath   area  property_address    price\n",
       "0                 2           2  1.200                 1   409900\n",
       "1                 2           1  1.000                 1   178804\n",
       "2                 2           1    NaN                 1   384900\n",
       "3                 3         2.5  1.617                 1   185000\n",
       "4                 3         1.5  1.048                 1   338000\n",
       "..              ...         ...    ...               ...      ...\n",
       "344               8           3    NaN                 1  1099999\n",
       "345               3         2.5  2.300                 1  1249500\n",
       "346               2           1    850                 4   125000\n",
       "348               4           1  1.594                 1    68000\n",
       "349               5         2.5  1.214                 1   299900\n",
       "\n",
       "[341 rows x 5 columns]"
      ]
     },
     "execution_count": 8,
     "metadata": {},
     "output_type": "execute_result"
    }
   ],
   "source": [
    "df[['property_address']] = df[['property_address']].apply(lambda col: pd.factorize(col, sort=True)[0])\n",
    "df"
   ]
  },
  {
   "cell_type": "code",
   "execution_count": 9,
   "id": "c3374cdc",
   "metadata": {},
   "outputs": [
    {
     "data": {
      "text/plain": [
       "price  \n",
       "275000     7\n",
       "164900     6\n",
       "450000     6\n",
       "549900     5\n",
       "750000     5\n",
       "          ..\n",
       "374900     1\n",
       "379000     1\n",
       "379900     1\n",
       "384900     1\n",
       "6495000    1\n",
       "Length: 226, dtype: int64"
      ]
     },
     "execution_count": 9,
     "metadata": {},
     "output_type": "execute_result"
    }
   ],
   "source": [
    "df[['price']].value_counts()"
   ]
  },
  {
   "cell_type": "markdown",
   "id": "bff916e4",
   "metadata": {},
   "source": [
    "### Analized Data"
   ]
  },
  {
   "cell_type": "code",
   "execution_count": 10,
   "id": "29c5381e",
   "metadata": {},
   "outputs": [
    {
     "name": "stdout",
     "output_type": "stream",
     "text": [
      "<class 'pandas.core.frame.DataFrame'>\n",
      "Int64Index: 341 entries, 0 to 349\n",
      "Data columns (total 5 columns):\n",
      " #   Column            Non-Null Count  Dtype  \n",
      "---  ------            --------------  -----  \n",
      " 0   number_bedrooms   341 non-null    int64  \n",
      " 1   number_bath       341 non-null    float64\n",
      " 2   area              236 non-null    float64\n",
      " 3   property_address  341 non-null    int64  \n",
      " 4   price             341 non-null    float64\n",
      "dtypes: float64(3), int64(2)\n",
      "memory usage: 16.0 KB\n"
     ]
    },
    {
     "name": "stderr",
     "output_type": "stream",
     "text": [
      "C:\\Users\\Hanieh\\AppData\\Local\\Temp\\ipykernel_11872\\3772652479.py:2: SettingWithCopyWarning: \n",
      "A value is trying to be set on a copy of a slice from a DataFrame.\n",
      "Try using .loc[row_indexer,col_indexer] = value instead\n",
      "\n",
      "See the caveats in the documentation: https://pandas.pydata.org/pandas-docs/stable/user_guide/indexing.html#returning-a-view-versus-a-copy\n",
      "  df['number_bedrooms']= pd.to_numeric(df['number_bedrooms'])\n",
      "C:\\Users\\Hanieh\\AppData\\Local\\Temp\\ipykernel_11872\\3772652479.py:4: SettingWithCopyWarning: \n",
      "A value is trying to be set on a copy of a slice from a DataFrame.\n",
      "Try using .loc[row_indexer,col_indexer] = value instead\n",
      "\n",
      "See the caveats in the documentation: https://pandas.pydata.org/pandas-docs/stable/user_guide/indexing.html#returning-a-view-versus-a-copy\n",
      "  df['number_bath']= pd.to_numeric(df['number_bath'])\n",
      "C:\\Users\\Hanieh\\AppData\\Local\\Temp\\ipykernel_11872\\3772652479.py:6: SettingWithCopyWarning: \n",
      "A value is trying to be set on a copy of a slice from a DataFrame.\n",
      "Try using .loc[row_indexer,col_indexer] = value instead\n",
      "\n",
      "See the caveats in the documentation: https://pandas.pydata.org/pandas-docs/stable/user_guide/indexing.html#returning-a-view-versus-a-copy\n",
      "  df['area']= pd.to_numeric(df['area'])\n",
      "C:\\Users\\Hanieh\\AppData\\Local\\Temp\\ipykernel_11872\\3772652479.py:8: SettingWithCopyWarning: \n",
      "A value is trying to be set on a copy of a slice from a DataFrame.\n",
      "Try using .loc[row_indexer,col_indexer] = value instead\n",
      "\n",
      "See the caveats in the documentation: https://pandas.pydata.org/pandas-docs/stable/user_guide/indexing.html#returning-a-view-versus-a-copy\n",
      "  df['price']= df['price'].astype(float)\n"
     ]
    }
   ],
   "source": [
    "# convert object to int\n",
    "df['number_bedrooms']= pd.to_numeric(df['number_bedrooms'])\n",
    "\n",
    "df['number_bath']= pd.to_numeric(df['number_bath'])\n",
    "\n",
    "df['area']= pd.to_numeric(df['area'])\n",
    "\n",
    "df['price']= df['price'].astype(float)\n",
    "\n",
    "df.info()"
   ]
  },
  {
   "cell_type": "code",
   "execution_count": 11,
   "id": "22ab6a5c",
   "metadata": {},
   "outputs": [
    {
     "name": "stdout",
     "output_type": "stream",
     "text": [
      "<class 'pandas.core.frame.DataFrame'>\n",
      "Int64Index: 341 entries, 0 to 349\n",
      "Data columns (total 1 columns):\n",
      " #   Column           Non-Null Count  Dtype\n",
      "---  ------           --------------  -----\n",
      " 0   number_bedrooms  341 non-null    int64\n",
      "dtypes: int64(1)\n",
      "memory usage: 5.3 KB\n"
     ]
    }
   ],
   "source": [
    "df[['number_bedrooms']].info()"
   ]
  },
  {
   "cell_type": "code",
   "execution_count": 12,
   "id": "0c28323e",
   "metadata": {},
   "outputs": [
    {
     "data": {
      "text/plain": [
       "array([[<AxesSubplot:title={'center':'number_bedrooms'}>,\n",
       "        <AxesSubplot:title={'center':'number_bath'}>],\n",
       "       [<AxesSubplot:title={'center':'area'}>,\n",
       "        <AxesSubplot:title={'center':'property_address'}>],\n",
       "       [<AxesSubplot:title={'center':'price'}>, <AxesSubplot:>]],\n",
       "      dtype=object)"
      ]
     },
     "execution_count": 12,
     "metadata": {},
     "output_type": "execute_result"
    },
    {
     "data": {
      "image/png": "[encoded data removed]",
      "text/plain": [
       "<Figure size 432x288 with 6 Axes>"
      ]
     },
     "metadata": {
      "needs_background": "light"
     },
     "output_type": "display_data"
    }
   ],
   "source": [
    "df.hist(bins=12)"
   ]
  },
  {
   "cell_type": "code",
   "execution_count": 13,
   "id": "36eaf885",
   "metadata": {
    "collapsed": true
   },
   "outputs": [
    {
     "data": {
      "text/plain": [
       "<matplotlib.collections.PathCollection at 0x1ddda672b60>"
      ]
     },
     "execution_count": 13,
     "metadata": {},
     "output_type": "execute_result"
    },
    {
     "data": {
      "image/png": "[encoded data removed]",
      "text/plain": [
       "<Figure size 432x288 with 1 Axes>"
      ]
     },
     "metadata": {
      "needs_background": "light"
     },
     "output_type": "display_data"
    }
   ],
   "source": [
    "plt.scatter(df['property_address'], df['price'])\n",
    "# df['price']"
   ]
  },
  {
   "cell_type": "markdown",
   "id": "b453d115",
   "metadata": {},
   "source": [
    "### feature selection\n"
   ]
  },
  {
   "cell_type": "code",
   "execution_count": 14,
   "id": "e1f1346d",
   "metadata": {},
   "outputs": [
    {
     "data": {
      "text/plain": [
       "Index(['number_bedrooms', 'number_bath', 'area', 'property_address', 'price'], dtype='object')"
      ]
     },
     "execution_count": 14,
     "metadata": {},
     "output_type": "execute_result"
    }
   ],
   "source": [
    "df.columns"
   ]
  },
  {
   "cell_type": "code",
   "execution_count": 36,
   "id": "1e23f4c5",
   "metadata": {},
   "outputs": [
    {
     "name": "stdout",
     "output_type": "stream",
     "text": [
      "<class 'numpy.ndarray'>\n"
     ]
    }
   ],
   "source": [
    "x = df[['number_bedrooms', 'number_bath', 'property_address']].values\n",
    "y = df[['price']].values\n",
    "print(type(x))"
   ]
  },
  {
   "cell_type": "markdown",
   "id": "47a7acf1",
   "metadata": {},
   "source": [
    "#### transform"
   ]
  },
  {
   "cell_type": "code",
   "execution_count": 47,
   "id": "145f92aa",
   "metadata": {},
   "outputs": [],
   "source": [
    "from sklearn.preprocessing import MinMaxScaler\n",
    "scaler = MinMaxScaler()\n",
    "scaler.fit(x)\n",
    "x = scaler.transform(x)\n"
   ]
  },
  {
   "cell_type": "markdown",
   "id": "9bcb49e0",
   "metadata": {},
   "source": [
    "#### train test  split"
   ]
  },
  {
   "cell_type": "code",
   "execution_count": null,
   "id": "7e307d9a",
   "metadata": {},
   "outputs": [],
   "source": []
  },
  {
   "cell_type": "code",
   "execution_count": 37,
   "id": "147df12c",
   "metadata": {},
   "outputs": [],
   "source": [
    "x_train, x_test, y_train, y_test = train_test_split(x, y, test_size=0.2, random_state=42)"
   ]
  },
  {
   "cell_type": "markdown",
   "id": "ebc1d718",
   "metadata": {},
   "source": [
    "### model selection"
   ]
  },
  {
   "cell_type": "code",
   "execution_count": 50,
   "id": "6ac02407",
   "metadata": {},
   "outputs": [
    {
     "name": "stdout",
     "output_type": "stream",
     "text": [
      "[-6.12488107 -0.19099924  0.57085841 -1.27640627  0.51421311  0.017515\n",
      " -0.36873904  0.12016875  0.12048274 -0.06239988]\n"
     ]
    }
   ],
   "source": [
    "# model = MLPRegressor()\n",
    "# print( cross_val_score(model, x_train, y_train.ravel(), cv=10) )\n",
    "model = RandomForestRegressor()\n",
    "print( cross_val_score(model, x_train, y_train.ravel(), cv=10) )"
   ]
  },
  {
   "cell_type": "code",
   "execution_count": 51,
   "id": "d5ba84fb",
   "metadata": {},
   "outputs": [
    {
     "name": "stdout",
     "output_type": "stream",
     "text": [
      "[-0.06626743 -0.02813125 -0.21425562 -0.14199601 -0.02284409 -0.00898411\n",
      " -0.11972676 -0.00093284 -0.23306267 -0.11935926]\n"
     ]
    }
   ],
   "source": [
    "from sklearn.svm import SVR\n",
    "model = SVR()\n",
    "print( cross_val_score(model, x_train, y_train.ravel(), cv=10) )\n"
   ]
  },
  {
   "cell_type": "code",
   "execution_count": 52,
   "id": "6e27de3e",
   "metadata": {},
   "outputs": [
    {
     "name": "stdout",
     "output_type": "stream",
     "text": [
      "[-2.69423116  0.20344721  0.15727903  0.21058835  0.36110202  0.11340212\n",
      "  0.59251899  0.02699811  0.18001414  0.0766579 ]\n"
     ]
    }
   ],
   "source": [
    "from sklearn.linear_model import LinearRegression\n",
    "model = LinearRegression()\n",
    "print( cross_val_score(model, x_train, y_train.ravel(), cv=10) )\n"
   ]
  },
  {
   "cell_type": "code",
   "execution_count": 58,
   "id": "937a3bc8",
   "metadata": {},
   "outputs": [
    {
     "name": "stdout",
     "output_type": "stream",
     "text": [
      "[-2.76134658  0.34253243  0.44499265  0.1229054   0.45507617 -0.00295875\n",
      "  0.60436484  0.0395902   0.14412688  0.31904074]\n"
     ]
    }
   ],
   "source": [
    "from sklearn.neighbors import KNeighborsRegressor\n",
    "model = KNeighborsRegressor(n_neighbors=7)\n",
    "print( cross_val_score(model, x_train, y_train.ravel(), cv=10) )\n"
   ]
  },
  {
   "cell_type": "code",
   "execution_count": 59,
   "id": "a4e3fcba",
   "metadata": {},
   "outputs": [
    {
     "name": "stdout",
     "output_type": "stream",
     "text": [
      "[-1.64681911 -0.6940554   0.56702521 -1.97721825  0.49360158  0.03101673\n",
      " -2.02513285  0.12611063 -0.03567599 -0.42715613]\n"
     ]
    }
   ],
   "source": [
    "from sklearn.tree import DecisionTreeRegressor\n",
    "model = DecisionTreeRegressor()\n",
    "print( cross_val_score(model, x_train, y_train.ravel(), cv=10) )\n"
   ]
  },
  {
   "cell_type": "code",
   "execution_count": null,
   "id": "1376d6b4",
   "metadata": {},
   "outputs": [],
   "source": []
  },
  {
   "cell_type": "code",
   "execution_count": null,
   "id": "5968b984",
   "metadata": {},
   "outputs": [],
   "source": []
  },
  {
   "cell_type": "code",
   "execution_count": null,
   "id": "822dd190",
   "metadata": {},
   "outputs": [],
   "source": []
  },
  {
   "cell_type": "code",
   "execution_count": null,
   "id": "3e237822",
   "metadata": {},
   "outputs": [],
   "source": []
  }
 ],
 "metadata": {
  "kernelspec": {
   "display_name": "Python 3 (ipykernel)",
   "language": "python",
   "name": "python3"
  },
  "language_info": {
   "codemirror_mode": {
    "name": "ipython",
    "version": 3
   },
   "file_extension": ".py",
   "mimetype": "text/x-python",
   "name": "python",
   "nbconvert_exporter": "python",
   "pygments_lexer": "ipython3",
   "version": "3.10.0"
  }
 },
 "nbformat": 4,
 "nbformat_minor": 5
}
